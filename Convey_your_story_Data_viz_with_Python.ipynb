{
  "nbformat": 4,
  "nbformat_minor": 0,
  "metadata": {
    "colab": {
      "provenance": [],
      "authorship_tag": "ABX9TyM3mFSVX0YUdfuS59keguTq",
      "include_colab_link": true
    },
    "kernelspec": {
      "name": "python3",
      "display_name": "Python 3"
    },
    "language_info": {
      "name": "python"
    }
  },
  "cells": [
    {
      "cell_type": "markdown",
      "metadata": {
        "id": "view-in-github",
        "colab_type": "text"
      },
      "source": [
        "<a href=\"https://colab.research.google.com/github/UnitForDataScience/Fall-2024-Python-Open-Labs/blob/main/Convey_your_story_Data_viz_with_Python.ipynb\" target=\"_parent\"><img src=\"https://colab.research.google.com/assets/colab-badge.svg\" alt=\"Open In Colab\"/></a>"
      ]
    },
    {
      "cell_type": "markdown",
      "source": [
        "# The Numbers don’t Speak for Themselves: Convey Your Story Using Data Visualization with Python\n",
        "\n",
        "An Open Lab by ASU Library's UDS"
      ],
      "metadata": {
        "id": "ND6JWMePdMja"
      }
    },
    {
      "cell_type": "markdown",
      "source": [
        "# Starting with the Classics: MatplotLib\n",
        "\n",
        "\n",
        "---\n",
        "\n",
        "Matplotlib is one of the oldest data visualization packages out there. Advanced customization requires some time (and code), but it is a great place to start. We will begin by practicing the recipe we described."
      ],
      "metadata": {
        "id": "39i_0z1Lusth"
      }
    },
    {
      "cell_type": "code",
      "source": [
        "# Import the matplotlib package and assign it an alias\n",
        "import matplotlib.pyplot as plt"
      ],
      "metadata": {
        "id": "hQd0q-RYx2ML"
      },
      "execution_count": null,
      "outputs": []
    },
    {
      "cell_type": "code",
      "source": [
        "# Initialize two lists that will serve as our dataset\n",
        "Days = [1, 2, 3, 4, 5, 6, 7]\n",
        "Sales = [119, 102, 95, 93, 138, 110, 98]"
      ],
      "metadata": {
        "id": "Oeeetk_V72wA"
      },
      "execution_count": null,
      "outputs": []
    },
    {
      "cell_type": "code",
      "source": [
        "# Creating a line plot using \"plot\". We are also specifying our axes and title.\n",
        "plt.scatter(Days, Sales)\n",
        "plt.title('Lighsabers Sold Over Time')\n",
        "plt.xlabel('Day')\n",
        "plt.ylabel('Lighsabers Sold')\n",
        "\n",
        "# Print our graph\n",
        "plt.show()"
      ],
      "metadata": {
        "id": "MbYPPei273ga"
      },
      "execution_count": null,
      "outputs": []
    },
    {
      "cell_type": "markdown",
      "source": [
        "Now that you ran your first plot, go ahead and try changing the plot type!\n",
        "You can use these for reference: scatter plot (plt.scatter), a stem plot (plt.stem), or a bar chart (plt.bar).\n",
        "\n",
        "In your own time, navigate to https://matplotlib.org/stable/plot_types/index.html to learn about all the types of plots that are available through matplotlib\n",
        "\n",
        "\n",
        "\n",
        "---\n",
        "\n"
      ],
      "metadata": {
        "id": "tec1fcaAC-ch"
      }
    },
    {
      "cell_type": "markdown",
      "source": [
        "# Case study: Exploring how GDP per Capita influences Life Expectancy\n",
        "\n",
        "---\n",
        "\n",
        "Let's start putting our skills to the test. In this example, we will create a scatter plot that shows the relationship between a country's GDP per capita and the mean life expectancy of their people, and we will improve it step by step.\n",
        "\n",
        "Our data comes from the \"Gapminder\" Dataset, which is available online. We will go step by step, following the general steps we described before. We will start by loading our first packages and use \"pandas\" to read the dataset from the link.\n",
        "\n",
        "*This example is inspired by Hans Rosling's work with data visualization*"
      ],
      "metadata": {
        "id": "GHRNgb9JGdIU"
      }
    },
    {
      "cell_type": "code",
      "source": [
        "# Import the matplotlib and pandas packages and assign them an alias\n",
        "import matplotlib.pyplot as plt\n",
        "import pandas as pd\n",
        "\n",
        "# Load the Gapminder dataset from Plotly\n",
        "df = pd.read_csv(\"https://raw.githubusercontent.com/plotly/datasets/master/gapminderDataFiveYear.csv\")\n",
        "print(df.head(12))                       # This function will allow us to see the first twelve rows of the dataset, and print it to our output\n",
        "\n"
      ],
      "metadata": {
        "id": "DWe_6BV38yMA"
      },
      "execution_count": null,
      "outputs": []
    },
    {
      "cell_type": "code",
      "source": [
        "#Filter the dataset by year, we will focus on 2007 for now\n",
        "df_year = df[df['year'] == 2007]         # Create a variable to filter the dataset for the year 2007\n",
        "print(df_year.head(12))                  # This function will allow us to see the first twelve rows of the filtered dataset\n"
      ],
      "metadata": {
        "id": "nB2sQekzVUwx"
      },
      "execution_count": null,
      "outputs": []
    },
    {
      "cell_type": "markdown",
      "source": [
        "### Now that we loaded and filtered our dataset, let's go ahead and plot Life Expectancy vs GDP per Capita for 2007"
      ],
      "metadata": {
        "id": "KfGdfJQrKmxZ"
      }
    },
    {
      "cell_type": "code",
      "source": [
        "# Basic scatter plot using Matplotlib\n",
        "plt.scatter(df_year['gdpPercap'],\n",
        "            df_year['lifeExp']\n",
        "            )\n",
        "\n",
        "# Add labels and title\n",
        "plt.title('Life Expectancy vs GDP per Capita (2007)')\n",
        "plt.xlabel('GDP per Capita')\n",
        "plt.ylabel('Life Expectancy (Years)')\n",
        "\n",
        "# Show the plot\n",
        "plt.show()"
      ],
      "metadata": {
        "id": "-oYAAAMmKH11"
      },
      "execution_count": null,
      "outputs": []
    },
    {
      "cell_type": "markdown",
      "source": [
        "### What is good about this plot? What can be improved?\n",
        "\n",
        "### Let's go ahead and add some color to the continents to improve our takeaways"
      ],
      "metadata": {
        "id": "rh3onSomK2s7"
      }
    },
    {
      "cell_type": "code",
      "source": [
        "# Define a color map for continents\n",
        "continent_colors = {'Africa': 'red', 'Americas': 'green', 'Asia': 'blue', 'Europe': 'orange', 'Oceania': 'purple'}\n",
        "colors = df_year['continent'].map(continent_colors)\n",
        "\n",
        "# Create a scatter plot with colored continents\n",
        "plt.figure(figsize=(10, 6)) #specify the size of our plot\n",
        "plt.scatter(df_year['gdpPercap'],\n",
        "            df_year['lifeExp'],\n",
        "            c = colors)\n",
        "\n",
        "\n",
        "# Add labels and title\n",
        "plt.title('Life Expectancy vs GDP per Capita (2007) by Continent')\n",
        "plt.xlabel('GDP per Capita')\n",
        "plt.ylabel('Life Expectancy (Years)')\n",
        "\n",
        "# Show the plot\n",
        "plt.show()"
      ],
      "metadata": {
        "id": "lNUf3UNnHYsN"
      },
      "execution_count": null,
      "outputs": []
    },
    {
      "cell_type": "markdown",
      "source": [
        "### Let's add some more context by taking into account the population size of each country"
      ],
      "metadata": {
        "id": "W45gzZCUV8h2"
      }
    },
    {
      "cell_type": "code",
      "source": [
        "# Create a scatter plot with bubble sizes based on population\n",
        "plt.figure(figsize=(10, 6))\n",
        "plt.scatter(df_year['gdpPercap'],\n",
        "            df_year['lifeExp'],\n",
        "            c=colors,\n",
        "            s=df_year['pop']/1000000,\n",
        "            alpha=0.6)\n",
        "\n",
        "# Add labels and title\n",
        "plt.title('Life Expectancy vs GDP per Capita (2007) with Population Bubble Sizes')\n",
        "plt.xlabel('GDP per Capita')\n",
        "plt.ylabel('Life Expectancy (Years)')\n",
        "\n",
        "# Show the plot\n",
        "plt.show()"
      ],
      "metadata": {
        "id": "lbIxRid1LoXP"
      },
      "execution_count": null,
      "outputs": []
    },
    {
      "cell_type": "markdown",
      "source": [
        "## Introducing Seaborn\n",
        "\n",
        "---\n",
        "Seaborn is built on matplotlib, but makes your life much easier by doing a lot of the coding for you. Overall, it requires less coding to customize and provide great-looking visualizations. The code below is a recreation of our last plot using the seaborn package.\n",
        "\n",
        "In your own time, check out https://seaborn.pydata.org/index.html\n"
      ],
      "metadata": {
        "id": "A63-kidyNlZy"
      }
    },
    {
      "cell_type": "code",
      "source": [
        "# We begin by importing Seaborn and giving it an alias.\n",
        "# Whenever you're using Seaborn, you will also import matplotlib\n",
        "import seaborn as sns\n",
        "\n",
        "# Create a scatter plot with Seaborn, coloring by continent and scaling bubbles by population\n",
        "plt.figure(figsize=(10, 6))\n",
        "sns.scatterplot(data=df_year,\n",
        "                x='gdpPercap',\n",
        "                y='lifeExp',\n",
        "                hue='continent',\n",
        "                size='pop',\n",
        "                sizes=(20, 200),\n",
        "                alpha=0.7)\n",
        "\n",
        "# Add title and labels\n",
        "plt.title('Life Expectancy vs GDP per Capita (2007)')\n",
        "plt.xlabel('GDP per Capita')\n",
        "plt.ylabel('Life Expectancy')\n",
        "\n",
        "# Show the plot\n",
        "plt.show()"
      ],
      "metadata": {
        "id": "o0yYxJjXLgix"
      },
      "execution_count": null,
      "outputs": []
    },
    {
      "cell_type": "markdown",
      "source": [
        "# Enter Plotly: Making our visualization interactive\n",
        "\n",
        "\n",
        "---\n",
        "Plotly will allow us to create interactive plots and animations with our data. Let's go ahead and use it to keep exploring our data."
      ],
      "metadata": {
        "id": "F9oz56InjjtL"
      }
    },
    {
      "cell_type": "code",
      "execution_count": null,
      "metadata": {
        "collapsed": true,
        "id": "E8UZkMVgho_C"
      },
      "outputs": [],
      "source": [
        "#Import plotly.express as px\n",
        "import plotly.express as px\n",
        "\n",
        "\n",
        "# The sample dataset \"Gapminder\" is already pre-loaded in Plotly\n",
        "df = px.data.gapminder()\n",
        "\n",
        "# Create an interactive scatter plot\n",
        "fig = px.scatter(df.query(\"year == 2007\"),  # This is how we filter the data by year in plotly using a boolean\n",
        "                 x=\"gdpPercap\",\n",
        "                 y=\"lifeExp\",\n",
        "                 color=\"continent\",\n",
        "                 size=\"pop\",\n",
        "                 size_max=70,)\n",
        "\n",
        "# Customize and show the plot\n",
        "fig.update_layout(title='Interactive Plot: GDP vs Life Expectancy (2007)')\n",
        "fig.show()\n",
        "\n",
        "# Let's run this once, and check our x and y axes and our data points Can we see most of the data clearly? how much information can we get out of this?\n",
        "# Try adding these parameters to the figure: hover_name=\"country\", size_max=70,, log_x=True"
      ]
    },
    {
      "cell_type": "markdown",
      "source": [
        "### To better present our case, let's add an animation that goes through the years. Plotly will allow us to do this without having to make several plots."
      ],
      "metadata": {
        "id": "aOtpQOKljilg"
      }
    },
    {
      "cell_type": "code",
      "source": [
        "import plotly.express as px\n",
        "\n",
        "# Sample data: Gapminder dataset (available in Plotly)\n",
        "df = px.data.gapminder()\n",
        "\n",
        "\n",
        "# Create an interactive scatter plot\n",
        "fig = px.scatter(df,                             # Notice that we are not filtering the dataset anymore\n",
        "                 x=\"gdpPercap\",\n",
        "                 y=\"lifeExp\",\n",
        "                 animation_frame=\"year\",         # This will allow us to animate by year\n",
        "                 animation_group=\"country\",      # This plots each country separately\n",
        "                 size=\"pop\",\n",
        "                 color=\"continent\",\n",
        "                 hover_name=\"country\",\n",
        "                 log_x=True,\n",
        "                 size_max=70,\n",
        "                 range_x=[200,60000],             # We can also specify the size of our axes\n",
        "                 range_y=[25,90])\n",
        "\n",
        "# Customize and show the plot\n",
        "fig.update_layout(title='Interactive Plot: GDP vs Life Expectancy')\n",
        "fig.show()"
      ],
      "metadata": {
        "id": "U4AoIOcpvfPU"
      },
      "execution_count": null,
      "outputs": []
    },
    {
      "cell_type": "markdown",
      "source": [
        "You did it! It was though, but you used three different libraries to explore your data and created a visualization that can help your audience understand your results.\n",
        "\n",
        "Here are some questions that can help you think through what we achieved: What are some of the insights that we get from looking at one year of data? What are some insights that we get from looking at the change through five decades? zhow did adding more context to the data help you understand what was happening?\n",
        "\n",
        "If you want to learn more about Plotly, check out https://plotly.com/python/"
      ],
      "metadata": {
        "id": "UI62MnFqu8ur"
      }
    }
  ]
}