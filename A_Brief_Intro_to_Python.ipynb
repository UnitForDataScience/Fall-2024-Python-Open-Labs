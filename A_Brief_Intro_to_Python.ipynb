{
  "nbformat": 4,
  "nbformat_minor": 0,
  "metadata": {
    "colab": {
      "provenance": [],
      "authorship_tag": "ABX9TyPsVyu+R/j6jZZUXUZh4PMG",
      "include_colab_link": true
    },
    "kernelspec": {
      "name": "python3",
      "display_name": "Python 3"
    },
    "language_info": {
      "name": "python"
    }
  },
  "cells": [
    {
      "cell_type": "markdown",
      "metadata": {
        "id": "view-in-github",
        "colab_type": "text"
      },
      "source": [
        "<a href=\"https://colab.research.google.com/github/UnitForDataScience/Fall-2024-Python-Open-Labs/blob/main/A_Brief_Intro_to_Python.ipynb\" target=\"_parent\"><img src=\"https://colab.research.google.com/assets/colab-badge.svg\" alt=\"Open In Colab\"/></a>"
      ]
    },
    {
      "cell_type": "markdown",
      "source": [
        "# A Brief Intro to Python\n",
        "###An Open Lab by the UDS 😎\n",
        "\n",
        "---\n",
        "\n",
        "Let's start you on your journey! In the cell below, type (or copy and paste) the following:                 \n",
        "\n",
        "print (\"Hello World! My name is your_name, and I'm learning to code with Python\")"
      ],
      "metadata": {
        "id": "CG3p_BP_uZEj"
      }
    },
    {
      "cell_type": "code",
      "execution_count": null,
      "metadata": {
        "id": "ONLPVekeuUMo"
      },
      "outputs": [],
      "source": [
        "# Use the space below to write your \"Hello World\" code\n",
        "\n"
      ]
    },
    {
      "cell_type": "markdown",
      "source": [
        "# The basics\n",
        "\n",
        "\n",
        "---\n",
        "\n"
      ],
      "metadata": {
        "id": "ottVVTv8x5yI"
      }
    },
    {
      "cell_type": "markdown",
      "source": [
        "###Variables and Types"
      ],
      "metadata": {
        "id": "qY4orHdVmlU_"
      }
    },
    {
      "cell_type": "code",
      "source": [
        "# Variables and Types\n",
        "x = 10    # Integer\n",
        "y = 2.5   # Float\n",
        "\n",
        "name = \"Ezra\"                     # String\n",
        "one_to_five = [1, 2, 3, 4, 5]     # List\n",
        "\n",
        "print(name)\n",
        "print(one_to_five)"
      ],
      "metadata": {
        "id": "4JPgX6ugl1Qj"
      },
      "execution_count": null,
      "outputs": []
    },
    {
      "cell_type": "markdown",
      "source": [
        "###Basic Operators"
      ],
      "metadata": {
        "id": "17IA_5aVpJty"
      }
    },
    {
      "cell_type": "code",
      "source": [
        "# Basic Operators\n",
        "sum = x + y\n",
        "difference = x - y\n",
        "product = x * y\n",
        "quotient = x / y\n",
        "\n",
        "\n",
        "print(float(x))  # Convert to float\n",
        "print(str(x+y))  # Convert to string\n",
        "print(int(y))    # Convert to integer\n",
        "print(x==y)"
      ],
      "metadata": {
        "id": "a5H7bZFQpKYW"
      },
      "execution_count": null,
      "outputs": []
    },
    {
      "cell_type": "markdown",
      "source": [
        "###Control Structures"
      ],
      "metadata": {
        "id": "gyu3LGEToUr7"
      }
    },
    {
      "cell_type": "code",
      "source": [
        "# If structure\n",
        "if x > y:\n",
        "    print(\"x is greater than y\")\n",
        "else:\n",
        "    print(\"x is not greater than y\")\n",
        "\n",
        "\n",
        "# For loop\n",
        "for number in one_to_five:\n",
        "    print(number)\n",
        "\n",
        "\n",
        "# While loop\n",
        "count = 5\n",
        "while count > 1:\n",
        "    count -= 1\n",
        "    print(count)"
      ],
      "metadata": {
        "id": "ELWUOxMToYAW"
      },
      "execution_count": null,
      "outputs": []
    },
    {
      "cell_type": "markdown",
      "source": [
        "# Bringing it all together, creating functions\n",
        "\n",
        "---\n",
        "\n",
        "In the space below, we will write a function that asks the user for their gross yearly salary and returns their net salary"
      ],
      "metadata": {
        "id": "QAOcN1RP4dJq"
      }
    },
    {
      "cell_type": "code",
      "source": [
        "def what_is_my_net_salary():\n",
        "    # Ask the user for their gross yearly salary\n",
        "    gross_salary = float(input(\"Please enter your gross yearly salary in USD: \"))\n",
        "\n",
        "    # Check if the salary is valid (greater than 0)\n",
        "    if gross_salary > 0:\n",
        "        # Create variables for paycheck deductions as percentages\n",
        "        tax_rate = 0.25  # 25% tax\n",
        "        insurance = 2000  # fixed insurance deduction\n",
        "        retirement_contribution = 0.05  # 5% retirement contribution\n",
        "\n",
        "        # Calculate deductions\n",
        "        tax_deduction = gross_salary * tax_rate\n",
        "        retirement_deduction = gross_salary * retirement_contribution\n",
        "\n",
        "        # Calculate net salary\n",
        "        net_salary = gross_salary - (tax_deduction + retirement_deduction + insurance)\n",
        "\n",
        "        # Display the net salary\n",
        "        print(f\"Your net yearly salary after deductions is: ${net_salary}\")\n",
        "    else:\n",
        "        print(\"Salary must be greater than zero.\")"
      ],
      "metadata": {
        "id": "QYvAZNED5BkB"
      },
      "execution_count": null,
      "outputs": []
    },
    {
      "cell_type": "markdown",
      "source": [
        "Let's go ahead and call our function"
      ],
      "metadata": {
        "id": "fKl0yPHLAg6o"
      }
    },
    {
      "cell_type": "code",
      "source": [
        "#We call the function by writing its name\n",
        "what_is_my_net_salary()"
      ],
      "metadata": {
        "id": "IzA7OjoGAf3j"
      },
      "execution_count": null,
      "outputs": []
    },
    {
      "cell_type": "markdown",
      "source": [
        "\n",
        "\n",
        "---\n",
        "\n",
        "\n",
        "### We can do a bit more if we use a \"while\" loop\n",
        "\n",
        "\n"
      ],
      "metadata": {
        "id": "gFa1Vb59CLLa"
      }
    },
    {
      "cell_type": "code",
      "source": [
        "def what_is_my_net_salary():\n",
        "    # Ask user for their gross yearly salary until a valid input is given\n",
        "    gross_salary = float(input(\"Enter your gross yearly salary (in USD): \"))\n",
        "\n",
        "    # Use a while loop to ask the user again if the value is less than or equal to 0\n",
        "    while gross_salary <= 0:\n",
        "        print(\"The salary must be greater than zero. Please try again.\")\n",
        "        gross_salary = float(input(\"Please enter your gross yearly salary in USD: \"))\n",
        "\n",
        "    # Create variables for paycheck deductions as percentages\n",
        "    tax_rate = 0.25  # 25% tax\n",
        "    insurance = 2000  # fixed insurance deduction\n",
        "    retirement_contribution = 0.05  # 5% retirement contribution\n",
        "\n",
        "    # Calculate deductions\n",
        "    tax_deduction = gross_salary * tax_rate\n",
        "    retirement_deduction = gross_salary * retirement_contribution\n",
        "\n",
        "    # Calculate net salary\n",
        "    net_salary = gross_salary - (tax_deduction + retirement_deduction + insurance)\n",
        "\n",
        "    # Round the result to 2 decimal places\n",
        "    net_salary = round(net_salary, 2)\n",
        "\n",
        "    # Display the net salary\n",
        "    print(\"Your net yearly salary after deductions is:\", net_salary)\n"
      ],
      "metadata": {
        "id": "70TRNnd-B4Jt"
      },
      "execution_count": null,
      "outputs": []
    },
    {
      "cell_type": "markdown",
      "source": [
        "Let's run our improved function"
      ],
      "metadata": {
        "id": "xz75v7JyCowK"
      }
    },
    {
      "cell_type": "code",
      "source": [
        "# Call the function by writing its name\n",
        "what_is_my_net_salary()"
      ],
      "metadata": {
        "id": "ESWdxjkxCjMx"
      },
      "execution_count": null,
      "outputs": []
    },
    {
      "cell_type": "markdown",
      "source": [
        "# Importing Packages\n",
        "\n",
        "\n",
        "---\n",
        "\n",
        "As an example, we will import \"matplotlib\" to allow python to create plots easily"
      ],
      "metadata": {
        "id": "vkUkRRQgizzc"
      }
    },
    {
      "cell_type": "code",
      "source": [
        "import matplotlib.pyplot as plt\n",
        "\n",
        "# Data for plotting\n",
        "x = [1, 2, 3, 4, 5]\n",
        "y = [2, 3, 5, 7, 11]\n",
        "\n",
        "# Create a line plot\n",
        "plt.plot(x, y, marker='h')\n",
        "\n",
        "# Add title and labels\n",
        "plt.title(\"Simple Line Plot\")\n",
        "#plt.xlabel(\"X Axis\")\n",
        "#plt.ylabel(\"Y Axis\")\n",
        "\n",
        "#plt.grid(True)\n",
        "\n",
        "# Display the plot\n",
        "plt.show()"
      ],
      "metadata": {
        "id": "QrxAaqQUjjsF"
      },
      "execution_count": null,
      "outputs": []
    },
    {
      "cell_type": "markdown",
      "source": [
        "###Let's add a bar chart to our function!"
      ],
      "metadata": {
        "id": "Jg1YD6QajkPS"
      }
    },
    {
      "cell_type": "code",
      "source": [
        "import matplotlib.pyplot as plt\n",
        "\n",
        "def plot_net_salary():\n",
        "    # This is the same code as before\n",
        "    gross_salary = float(input(\"Enter your gross yearly salary (in USD): \"))\n",
        "\n",
        "    while gross_salary <= 0:\n",
        "        print(\"The salary must be greater than zero. Please try again.\")\n",
        "        gross_salary = float(input(\"Enter your gross yearly salary (in USD): \"))\n",
        "\n",
        "    tax_rate = 0.25  # 25% tax\n",
        "    insurance = 2000  # fixed insurance deduction\n",
        "    retirement_contribution = 0.05  # 5% retirement contribution\n",
        "    tax_deduction = gross_salary * tax_rate\n",
        "    retirement_deduction = gross_salary * retirement_contribution\n",
        "    net_salary = gross_salary - (tax_deduction + retirement_deduction + insurance)\n",
        "    net_salary = round(net_salary, 2)\n",
        "\n",
        "    print(\"Your net yearly salary after deductions is:\", net_salary)\n",
        "\n",
        "\n",
        "    # This part of the code creates a bar chart\n",
        "    # Set the variables and labels\n",
        "    salaries = [gross_salary, net_salary]\n",
        "    labels = ['Gross Salary', 'Net Salary']\n",
        "\n",
        "    # Create a Bar chart\n",
        "    plt.bar(labels, salaries, color=['cyan', 'teal'])\n",
        "\n",
        "    # Add axis labels and title\n",
        "    plt.ylabel('Amount in USD')\n",
        "    plt.title('Comparison of Gross and Net Salary')\n",
        "\n",
        "    # Display the chart\n",
        "    plt.show()\n",
        "\n",
        "# Call the function to calculate salary and show the chart\n",
        "plot_net_salary()"
      ],
      "metadata": {
        "id": "0Fy9WFQsgQdZ"
      },
      "execution_count": null,
      "outputs": []
    },
    {
      "cell_type": "markdown",
      "source": [
        "## Thank you! Now go on some Python adventures!"
      ],
      "metadata": {
        "id": "H1DjsfTWyD5P"
      }
    }
  ]
}